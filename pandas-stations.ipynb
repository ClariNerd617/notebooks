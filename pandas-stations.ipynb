{
 "cells": [
  {
   "cell_type": "code",
   "execution_count": 1,
   "metadata": {
    "_cell_guid": "b1076dfc-b9ad-4769-8c92-a6c4dae69d19",
    "_uuid": "8f2839f25d086af736a60e9eeb907d3b93b6e0e5"
   },
   "outputs": [
    {
     "name": "stdout",
     "output_type": "stream",
     "text": [
      "Collecting pandarallel\r\n",
      "  Downloading pandarallel-1.4.6.tar.gz (14 kB)\r\n",
      "Requirement already satisfied: dill in /opt/conda/lib/python3.6/site-packages (from pandarallel) (0.3.1.1)\r\n",
      "Building wheels for collected packages: pandarallel\r\n",
      "  Building wheel for pandarallel (setup.py) ... \u001b[?25l-\b \b\\\b \bdone\r\n",
      "\u001b[?25h  Created wheel for pandarallel: filename=pandarallel-1.4.6-py3-none-any.whl size=16086 sha256=51935e12c966c579a1e35303f835e6830d4a90aab75c51d956ef6dfdb6eddd95\r\n",
      "  Stored in directory: /root/.cache/pip/wheels/de/92/0b/d3fbee4aafe47a742cfb5b672e5d00f9e29ac1c8c98e7998b4\r\n",
      "Successfully built pandarallel\r\n",
      "Installing collected packages: pandarallel\r\n",
      "Successfully installed pandarallel-1.4.6\r\n",
      "INFO: Pandarallel will run on 4 workers.\n",
      "INFO: Pandarallel will use Memory file system to transfer data between the main process and workers.\n"
     ]
    }
   ],
   "source": [
    "from ftplib import FTP\n",
    "import matplotlib.pyplot as plt\n",
    "import pandas as pd\n",
    "import gzip\n",
    "from io import BytesIO\n",
    "import shutil\n",
    "from datetime import datetime, timedelta\n",
    "import os\n",
    "import seaborn as sns\n",
    "import numpy as np\n",
    "from glob import glob\n",
    "\n",
    "!pip install pandarallel\n",
    "from pandarallel import pandarallel\n",
    "\n",
    "pandarallel.initialize()"
   ]
  },
  {
   "cell_type": "code",
   "execution_count": 2,
   "metadata": {
    "_cell_guid": "",
    "_uuid": ""
   },
   "outputs": [],
   "source": [
    "isd_history = pd.read_csv(\"../input/noaa-global-surface-summary-of-the-day/isd-history.csv\")"
   ]
  },
  {
   "cell_type": "code",
   "execution_count": 3,
   "metadata": {},
   "outputs": [],
   "source": [
    "def get_ids(icao: str):\n",
    "    icao = icao.upper()\n",
    "    wban = isd_history.query(f\"ICAO == '{icao}'\").WBAN.to_list()[0]\n",
    "    usaf = isd_history.query(f\"ICAO == '{icao}'\").USAF.to_list()[0]\n",
    "    return wban, usaf"
   ]
  },
  {
   "cell_type": "code",
   "execution_count": 4,
   "metadata": {},
   "outputs": [],
   "source": [
    "years = pd.date_range(start=\"2006\", end=\"2019\", freq=\"AS\")\n",
    "icao = \"KASH\"\n",
    "(wban, usaf) = get_ids(icao)"
   ]
  },
  {
   "cell_type": "code",
   "execution_count": 5,
   "metadata": {},
   "outputs": [],
   "source": [
    "def get_file(year):\n",
    "    filename = f\"{usaf}-{wban}-{year}\"\n",
    "    print(filename)\n",
    "    with FTP(\"ftp.ncdc.noaa.gov\") as ftp, BytesIO() as flo:\n",
    "        ftp.login()\n",
    "        ftp.retrbinary(f\"RETR pub/data/noaa/isd-lite/{year}/{filename}.gz\", flo.write)\n",
    "        flo.seek(0)\n",
    "        with open(f\"{filename}.gz\", \"wb\") as fout, gzip.GzipFile(fileobj = flo) as gzipobj:\n",
    "            shutil.copyfileobj(gzipobj, fout)"
   ]
  },
  {
   "cell_type": "code",
   "execution_count": 6,
   "metadata": {},
   "outputs": [
    {
     "name": "stdout",
     "output_type": "stream",
     "text": [
      "743946-54754-2006\n",
      "743946-54754-2007\n",
      "743946-54754-2008\n",
      "743946-54754-2009\n",
      "743946-54754-2010\n",
      "743946-54754-2011\n",
      "743946-54754-2012\n",
      "743946-54754-2013\n",
      "743946-54754-2014\n",
      "743946-54754-2015\n",
      "743946-54754-2016\n",
      "743946-54754-2017\n",
      "743946-54754-2018\n",
      "743946-54754-2019\n"
     ]
    }
   ],
   "source": [
    "for year in list(years.year):\n",
    "    get_file(year)"
   ]
  },
  {
   "cell_type": "code",
   "execution_count": 7,
   "metadata": {},
   "outputs": [],
   "source": [
    "filelist = glob(\"*.gz\")\n",
    "df_list = []\n",
    "for file in filelist:\n",
    "    with open(file, \"r\") as f:\n",
    "        df_list.append(\n",
    "           pd.read_csv(\n",
    "               f,\n",
    "               delim_whitespace=True,\n",
    "               header=None,\n",
    "               names=[\n",
    "                   \"year\",\n",
    "                   \"month\",\n",
    "                   \"day\",\n",
    "                   \"hour\",\n",
    "                   \"tmpc\",\n",
    "                   \"dwpc\",\n",
    "                   \"mslp\",\n",
    "                   \"wdir\",\n",
    "                   \"wspd\",\n",
    "                   \"skct\",\n",
    "                   \"pr1h\",\n",
    "                   \"pr6h\"\n",
    "               ]\n",
    "           )\n",
    "        )\n",
    "df = pd.concat(df_list)"
   ]
  },
  {
   "cell_type": "code",
   "execution_count": 8,
   "metadata": {},
   "outputs": [
    {
     "data": {
      "text/html": [
       "<div>\n",
       "<style scoped>\n",
       "    .dataframe tbody tr th:only-of-type {\n",
       "        vertical-align: middle;\n",
       "    }\n",
       "\n",
       "    .dataframe tbody tr th {\n",
       "        vertical-align: top;\n",
       "    }\n",
       "\n",
       "    .dataframe thead th {\n",
       "        text-align: right;\n",
       "    }\n",
       "</style>\n",
       "<table border=\"1\" class=\"dataframe\">\n",
       "  <thead>\n",
       "    <tr style=\"text-align: right;\">\n",
       "      <th></th>\n",
       "      <th>year</th>\n",
       "      <th>month</th>\n",
       "      <th>day</th>\n",
       "      <th>hour</th>\n",
       "      <th>tmpc</th>\n",
       "      <th>dwpc</th>\n",
       "      <th>mslp</th>\n",
       "      <th>wdir</th>\n",
       "      <th>wspd</th>\n",
       "      <th>skct</th>\n",
       "      <th>pr1h</th>\n",
       "      <th>pr6h</th>\n",
       "    </tr>\n",
       "  </thead>\n",
       "  <tbody>\n",
       "    <tr>\n",
       "      <th>0</th>\n",
       "      <td>2019</td>\n",
       "      <td>1</td>\n",
       "      <td>1</td>\n",
       "      <td>1</td>\n",
       "      <td>22</td>\n",
       "      <td>17</td>\n",
       "      <td>10235</td>\n",
       "      <td>-9999</td>\n",
       "      <td>21</td>\n",
       "      <td>-9999</td>\n",
       "      <td>-1</td>\n",
       "      <td>-9999</td>\n",
       "    </tr>\n",
       "    <tr>\n",
       "      <th>1</th>\n",
       "      <td>2019</td>\n",
       "      <td>1</td>\n",
       "      <td>1</td>\n",
       "      <td>2</td>\n",
       "      <td>17</td>\n",
       "      <td>17</td>\n",
       "      <td>10211</td>\n",
       "      <td>140</td>\n",
       "      <td>26</td>\n",
       "      <td>-9999</td>\n",
       "      <td>3</td>\n",
       "      <td>-9999</td>\n",
       "    </tr>\n",
       "    <tr>\n",
       "      <th>2</th>\n",
       "      <td>2019</td>\n",
       "      <td>1</td>\n",
       "      <td>1</td>\n",
       "      <td>3</td>\n",
       "      <td>6</td>\n",
       "      <td>6</td>\n",
       "      <td>10198</td>\n",
       "      <td>140</td>\n",
       "      <td>21</td>\n",
       "      <td>-9999</td>\n",
       "      <td>15</td>\n",
       "      <td>-9999</td>\n",
       "    </tr>\n",
       "    <tr>\n",
       "      <th>3</th>\n",
       "      <td>2019</td>\n",
       "      <td>1</td>\n",
       "      <td>1</td>\n",
       "      <td>4</td>\n",
       "      <td>6</td>\n",
       "      <td>6</td>\n",
       "      <td>10175</td>\n",
       "      <td>130</td>\n",
       "      <td>26</td>\n",
       "      <td>-9999</td>\n",
       "      <td>2</td>\n",
       "      <td>-9999</td>\n",
       "    </tr>\n",
       "    <tr>\n",
       "      <th>4</th>\n",
       "      <td>2019</td>\n",
       "      <td>1</td>\n",
       "      <td>1</td>\n",
       "      <td>5</td>\n",
       "      <td>6</td>\n",
       "      <td>6</td>\n",
       "      <td>10150</td>\n",
       "      <td>130</td>\n",
       "      <td>26</td>\n",
       "      <td>-9999</td>\n",
       "      <td>8</td>\n",
       "      <td>-9999</td>\n",
       "    </tr>\n",
       "    <tr>\n",
       "      <th>...</th>\n",
       "      <td>...</td>\n",
       "      <td>...</td>\n",
       "      <td>...</td>\n",
       "      <td>...</td>\n",
       "      <td>...</td>\n",
       "      <td>...</td>\n",
       "      <td>...</td>\n",
       "      <td>...</td>\n",
       "      <td>...</td>\n",
       "      <td>...</td>\n",
       "      <td>...</td>\n",
       "      <td>...</td>\n",
       "    </tr>\n",
       "    <tr>\n",
       "      <th>8659</th>\n",
       "      <td>2011</td>\n",
       "      <td>12</td>\n",
       "      <td>31</td>\n",
       "      <td>19</td>\n",
       "      <td>22</td>\n",
       "      <td>11</td>\n",
       "      <td>10108</td>\n",
       "      <td>0</td>\n",
       "      <td>0</td>\n",
       "      <td>8</td>\n",
       "      <td>-9999</td>\n",
       "      <td>-9999</td>\n",
       "    </tr>\n",
       "    <tr>\n",
       "      <th>8660</th>\n",
       "      <td>2011</td>\n",
       "      <td>12</td>\n",
       "      <td>31</td>\n",
       "      <td>20</td>\n",
       "      <td>16</td>\n",
       "      <td>11</td>\n",
       "      <td>10109</td>\n",
       "      <td>0</td>\n",
       "      <td>0</td>\n",
       "      <td>8</td>\n",
       "      <td>-9999</td>\n",
       "      <td>-9999</td>\n",
       "    </tr>\n",
       "    <tr>\n",
       "      <th>8661</th>\n",
       "      <td>2011</td>\n",
       "      <td>12</td>\n",
       "      <td>31</td>\n",
       "      <td>21</td>\n",
       "      <td>22</td>\n",
       "      <td>16</td>\n",
       "      <td>10108</td>\n",
       "      <td>0</td>\n",
       "      <td>0</td>\n",
       "      <td>8</td>\n",
       "      <td>-9999</td>\n",
       "      <td>-9999</td>\n",
       "    </tr>\n",
       "    <tr>\n",
       "      <th>8662</th>\n",
       "      <td>2011</td>\n",
       "      <td>12</td>\n",
       "      <td>31</td>\n",
       "      <td>22</td>\n",
       "      <td>16</td>\n",
       "      <td>11</td>\n",
       "      <td>10108</td>\n",
       "      <td>0</td>\n",
       "      <td>0</td>\n",
       "      <td>8</td>\n",
       "      <td>-9999</td>\n",
       "      <td>-9999</td>\n",
       "    </tr>\n",
       "    <tr>\n",
       "      <th>8663</th>\n",
       "      <td>2011</td>\n",
       "      <td>12</td>\n",
       "      <td>31</td>\n",
       "      <td>23</td>\n",
       "      <td>11</td>\n",
       "      <td>5</td>\n",
       "      <td>10114</td>\n",
       "      <td>0</td>\n",
       "      <td>0</td>\n",
       "      <td>8</td>\n",
       "      <td>-9999</td>\n",
       "      <td>-9999</td>\n",
       "    </tr>\n",
       "  </tbody>\n",
       "</table>\n",
       "<p>121430 rows × 12 columns</p>\n",
       "</div>"
      ],
      "text/plain": [
       "      year  month  day  hour  tmpc  dwpc   mslp  wdir  wspd  skct  pr1h  pr6h\n",
       "0     2019      1    1     1    22    17  10235 -9999    21 -9999    -1 -9999\n",
       "1     2019      1    1     2    17    17  10211   140    26 -9999     3 -9999\n",
       "2     2019      1    1     3     6     6  10198   140    21 -9999    15 -9999\n",
       "3     2019      1    1     4     6     6  10175   130    26 -9999     2 -9999\n",
       "4     2019      1    1     5     6     6  10150   130    26 -9999     8 -9999\n",
       "...    ...    ...  ...   ...   ...   ...    ...   ...   ...   ...   ...   ...\n",
       "8659  2011     12   31    19    22    11  10108     0     0     8 -9999 -9999\n",
       "8660  2011     12   31    20    16    11  10109     0     0     8 -9999 -9999\n",
       "8661  2011     12   31    21    22    16  10108     0     0     8 -9999 -9999\n",
       "8662  2011     12   31    22    16    11  10108     0     0     8 -9999 -9999\n",
       "8663  2011     12   31    23    11     5  10114     0     0     8 -9999 -9999\n",
       "\n",
       "[121430 rows x 12 columns]"
      ]
     },
     "execution_count": 8,
     "metadata": {},
     "output_type": "execute_result"
    }
   ],
   "source": [
    "df"
   ]
  },
  {
   "cell_type": "code",
   "execution_count": 9,
   "metadata": {},
   "outputs": [],
   "source": [
    "df['Timestamp'] = df.parallel_apply(lambda row: datetime(row.year, row.month, row.day, row.hour) - timedelta(hours=6), \n",
    "                           axis=1)\n",
    "df['Timestamp'] = pd.to_datetime(df.Timestamp)\n",
    "df.index = pd.DatetimeIndex(df.Timestamp)\n",
    "df = df.drop(columns='Timestamp')\n",
    "df['tmpc'] /= 10.\n",
    "df['dwpc'] /= 10.\n",
    "df['wspd'] /= 10.\n",
    "df['mslp'] /= 10.\n",
    "df['pr1h'] /= 10.\n",
    "df['pr6h'] /= 10.\n",
    "df['doy'] = df.index.dayofyear\n",
    "df['woy'] = df.index.weekofyear\n",
    "# clean up missing data\n",
    "df = df.mask(df.lt(-999.8),np.nan)"
   ]
  },
  {
   "cell_type": "code",
   "execution_count": 10,
   "metadata": {},
   "outputs": [],
   "source": [
    "grouped_dwpc = df['dwpc'].groupby([df.index.hour,df.woy]).max(numeric_only=True)\n",
    "grouped_dwpc = grouped_dwpc.unstack(level = 0)\n",
    "\n",
    "grouped_tmpc = df['tmpc'].groupby([df.index.hour,df.woy]).max(numeric_only=True)\n",
    "grouped_tmpc = grouped_tmpc.unstack(level = 0)"
   ]
  },
  {
   "cell_type": "code",
   "execution_count": 11,
   "metadata": {},
   "outputs": [
    {
     "data": {
      "image/png": "[encoded data removed]",
      "text/plain": [
       "<Figure size 648x648 with 2 Axes>"
      ]
     },
     "metadata": {},
     "output_type": "display_data"
    }
   ],
   "source": [
    "sns.set_style(\"darkgrid\")\n",
    "plt.figure(figsize=(9,9))\n",
    "sns.heatmap(grouped_dwpc, cmap='mako')\n",
    "plt.title(u'Diurnal cycle of maximum dewpoint at {}\\n by week (2006-2020, °C)'.format(icao))\n",
    "plt.ylabel('Week of year')\n",
    "plt.ylim([0,52]) #last week is just leap years\n",
    "plt.xlabel('Hour (LST)')\n",
    "plt.savefig('tdmax_diur.png',dpi=200)"
   ]
  },
  {
   "cell_type": "code",
   "execution_count": 12,
   "metadata": {},
   "outputs": [
    {
     "data": {
      "image/png": "[encoded data removed]",
      "text/plain": [
       "<Figure size 648x648 with 2 Axes>"
      ]
     },
     "metadata": {},
     "output_type": "display_data"
    }
   ],
   "source": [
    "sns.set_style(\"darkgrid\")\n",
    "plt.figure(figsize=(9,9))\n",
    "sns.heatmap(grouped_tmpc)\n",
    "plt.title(u'Diurnal cycle of maximum temperature at {}\\nby week (2006-2020, °C)'.format(icao))\n",
    "plt.ylabel('Week of year')\n",
    "plt.ylim([0,52])\n",
    "plt.xlabel('Hour (LST)')\n",
    "plt.savefig('tmax_diur.png',dpi=200)"
   ]
  },
  {
   "cell_type": "code",
   "execution_count": null,
   "metadata": {},
   "outputs": [],
   "source": []
  }
 ],
 "metadata": {
  "kernelspec": {
   "display_name": "Python 3",
   "language": "python",
   "name": "python3"
  },
  "language_info": {
   "codemirror_mode": {
    "name": "ipython",
    "version": 3
   },
   "file_extension": ".py",
   "mimetype": "text/x-python",
   "name": "python",
   "nbconvert_exporter": "python",
   "pygments_lexer": "ipython3",
   "version": "3.6.6"
  }
 },
 "nbformat": 4,
 "nbformat_minor": 4
}
